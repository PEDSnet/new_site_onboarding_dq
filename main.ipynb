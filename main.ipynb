{
 "cells": [
  {
   "cell_type": "code",
   "execution_count": null,
   "metadata": {},
   "outputs": [],
   "source": [
    "# ===================================================\n",
    "# 1. IMPORTS\n",
    "# ===================================================\n",
    "\n",
    "# Can use the following commented out pip commands to install python libraries if needed:\n",
    "\n",
    "#!python3 -m pip install configparser\n",
    "#!python3 -m pip install psycopg2-binary\n",
    "#!python3 -m pip install jinja2\n",
    "\n",
    "#import all libraries, functions, and variables from run_queries.py\n",
    "from src.run_queries import *"
   ]
  },
  {
   "cell_type": "code",
   "execution_count": null,
   "metadata": {},
   "outputs": [],
   "source": [
    "# ===================================================\n",
    "# 2. INPUT VARIABLES\n",
    "# ===================================================\n",
    "\n",
    "# schema name where PEDSnet tables live\n",
    "schema = 'pedsnet_data'\n",
    "\n",
    "# schema name where the OMOP/PEDSnet vocabulary tables live (In case it is different from where the clinical data live)\n",
    "vocab_schema = 'vocabulary'\n",
    "\n",
    "# version tag (used to differentiate results from different runs. Ex) \"chop_v58_sub2\"\n",
    "version = 'chop_submission_1'\n",
    "\n",
    "# List of tables to run checks for\n",
    "# Can comment out or remove any tables that you don't want to be checked\n",
    "tables = [\n",
    "    'person',\n",
    "    'death',\n",
    "    'location',\n",
    "    'care_site',\n",
    "    'provider',\n",
    "    'visit_occurrence',\n",
    "    'condition_occurrence',\n",
    "    'procedure_occurrence'\n",
    "    'observation',\n",
    "    'drug_exposure',\n",
    "    'measurement',\n",
    "    'measurement_organism',\n",
    "    'immunization',\n",
    "    'device_exposure',\n",
    "    'adt_occurrence',\n",
    "    'visit_payer',\n",
    "    'specialty',\n",
    "    'location_history',\n",
    "    'location_fips',\n",
    "    'hash_token',\n",
    "    'fact_relationship'\n",
    "]"
   ]
  },
  {
   "cell_type": "code",
   "execution_count": null,
   "metadata": {},
   "outputs": [],
   "source": [
    "# ===================================================\n",
    "# 3. DDL For Results\n",
    "# ===================================================\n",
    "\n",
    "# Create empty tables to house data quality results\n",
    "ddl = read_and_render_sql_file('src/sql/create_tables.sql')\n",
    "execute_sql_file(ddl)"
   ]
  },
  {
   "cell_type": "code",
   "execution_count": null,
   "metadata": {},
   "outputs": [],
   "source": [
    "# ===================================================\n",
    "# 4. Run Data Quality Checks\n",
    "# ===================================================\n",
    "\n",
    "# Runs all checks for each table name in the \"tables\" input variable\n",
    "for table in tables:\n",
    "    print('\\n')\n",
    "    print(\"=\" * 70)\n",
    "    print(f\"Starting Data Quality Assesment of the {table} table.\")\n",
    "    print(\"=\" * 70)\n",
    "    render_and_execute_checks_on_table(version, schema, vocab_schema, table)\n",
    "    print(\"=\" * 70)\n",
    "    print(f\"Data Quality Assesment of the {table} table is complete.\")\n",
    "    print(\"=\" * 70)\n",
    "    print('\\n')"
   ]
  },
  {
   "cell_type": "code",
   "execution_count": null,
   "metadata": {},
   "outputs": [],
   "source": [
    "# ===================================================\n",
    "# 5. Export Results\n",
    "# ===================================================\n",
    "\n",
    "# Exports populated metric tables\n",
    "# Writes them as a zip file containing a .csv for each table\n",
    "# output can be found in the results sub directory\n",
    "# output file name will be named your version\n",
    "\n",
    "export_results(version)"
   ]
  }
 ],
 "metadata": {
  "kernelspec": {
   "display_name": "Python 3",
   "language": "python",
   "name": "python3"
  },
  "language_info": {
   "codemirror_mode": {
    "name": "ipython",
    "version": 3
   },
   "file_extension": ".py",
   "mimetype": "text/x-python",
   "name": "python",
   "nbconvert_exporter": "python",
   "pygments_lexer": "ipython3",
   "version": "3.9.6"
  },
  "orig_nbformat": 4,
  "vscode": {
   "interpreter": {
    "hash": "31f2aee4e71d21fbe5cf8b01ff0e069b9275f58929596ceb00d14d90e3e16cd6"
   }
  }
 },
 "nbformat": 4,
 "nbformat_minor": 2
}
